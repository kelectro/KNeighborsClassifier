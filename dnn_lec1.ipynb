{
  "nbformat": 4,
  "nbformat_minor": 0,
  "metadata": {
    "colab": {
      "name": "dnn_lec1.ipynb",
      "version": "0.3.2",
      "provenance": [],
      "collapsed_sections": []
    },
    "kernelspec": {
      "name": "python3",
      "display_name": "Python 3"
    },
    "accelerator": "GPU"
  },
  "cells": [
    {
      "cell_type": "code",
      "metadata": {
        "id": "sHYXXsAWl6wF",
        "colab_type": "code",
        "colab": {}
      },
      "source": [
        "import tensorflow as tf\n",
        "import numpy as np\n",
        "from sklearn.neighbors import KNeighborsClassifier\n",
        "from sklearn.metrics import accuracy_score\n",
        "import matplotlib.pyplot as plt; plt.rcdefaults()\n"
      ],
      "execution_count": 0,
      "outputs": []
    },
    {
      "cell_type": "code",
      "metadata": {
        "id": "4ehoEKaRTqht",
        "colab_type": "code",
        "colab": {}
      },
      "source": [
        "c=True"
      ],
      "execution_count": 0,
      "outputs": []
    },
    {
      "cell_type": "code",
      "metadata": {
        "id": "1SiVCOLXTztV",
        "colab_type": "code",
        "colab": {
          "base_uri": "https://localhost:8080/",
          "height": 193
        },
        "outputId": "3d721971-d949-4dc0-d93c-2a8a2d198ab9"
      },
      "source": [
        "if c is True :\n",
        "  \n",
        "  cifar10 = tf.keras.datasets.cifar10\n",
        "  \n",
        "  (x2_train, y2_train),(x2_test, y2_test) = cifar10.load_data()\n",
        "  \n",
        "#   print(y2_train.shape)\n",
        "  \n",
        "  \n",
        "  x2_train=np.reshape(x2_train,(50000,-1))\n",
        "  x2_test=np.reshape(x2_test,(10000,-1))\n",
        "  \n",
        "  p=[]\n",
        "  \n",
        "  for k in [1,3,5,7]:\n",
        "    \n",
        "\n",
        "      clf = KNeighborsClassifier(algorithm=\"brute\",weights='distance',n_neighbors=k)\n",
        "      clf.fit(x2_train,y2_train) \n",
        "      # print(x_test.shape)\n",
        "      predicted=clf.predict(x2_test)\n",
        "      expected=y2_test\n",
        "      print(k)\n",
        "      print(\"Accuracy: \",accuracy_score(expected, predicted))\n",
        "      #find similar in both vectors and divide by total?\n",
        "      #print\n",
        "\n",
        "      p.append(accuracy_score(expected, predicted))\n",
        "      \n",
        "  plot(p)\n",
        "else:\n",
        "\n",
        "  mnist=tf.keras.datasets.mnist\n",
        "\n",
        "  (x_train, y_train),(x_test,y_test)=mnist.load_data()\n",
        "  # print(x2_test.shape)\n",
        "\n",
        "  # print(x_train[0:2])\n",
        "  # print(y_train[ :20])\n",
        "\n",
        "  x_train=np.reshape(x_train,(60000,784))\n",
        "  x_test=np.reshape(x_test,(10000,784))\n",
        "\n",
        "  p=[]\n",
        "  for k in [1,3,5,7]:\n",
        "\n",
        "      clf = KNeighborsClassifier(algorithm=\"brute\",n_neighbors=k)\n",
        "      clf.fit(x_train,y_train) \n",
        "      # print(x_test.shape)\n",
        "      predicted=clf.predict(x_test)\n",
        "      expected=y_test\n",
        "      print(k)\n",
        "      print(\"Accuracy: \",accuracy_score(expected, predicted))\n",
        "      #find similar in both vectors and divide by total?\n",
        "      #print\n",
        "\n",
        "      p.append(accuracy_score(expected, predicted))\n",
        "  plot(p)\n",
        "\n",
        "\n",
        "\n",
        "\n",
        "\n",
        "  \n"
      ],
      "execution_count": 0,
      "outputs": [
        {
          "output_type": "stream",
          "text": [
            "Downloading data from https://www.cs.toronto.edu/~kriz/cifar-10-python.tar.gz\n",
            "170500096/170498071 [==============================] - 11s 0us/step\n"
          ],
          "name": "stdout"
        },
        {
          "output_type": "stream",
          "text": [
            "/usr/local/lib/python3.6/dist-packages/ipykernel_launcher.py:19: DataConversionWarning: A column-vector y was passed when a 1d array was expected. Please change the shape of y to (n_samples, ), for example using ravel().\n"
          ],
          "name": "stderr"
        },
        {
          "output_type": "stream",
          "text": [
            "1\n",
            "Accuracy:  0.3539\n"
          ],
          "name": "stdout"
        },
        {
          "output_type": "stream",
          "text": [
            "/usr/local/lib/python3.6/dist-packages/ipykernel_launcher.py:19: DataConversionWarning: A column-vector y was passed when a 1d array was expected. Please change the shape of y to (n_samples, ), for example using ravel().\n"
          ],
          "name": "stderr"
        },
        {
          "output_type": "stream",
          "text": [
            "3\n",
            "Accuracy:  0.3569\n"
          ],
          "name": "stdout"
        },
        {
          "output_type": "stream",
          "text": [
            "/usr/local/lib/python3.6/dist-packages/ipykernel_launcher.py:19: DataConversionWarning: A column-vector y was passed when a 1d array was expected. Please change the shape of y to (n_samples, ), for example using ravel().\n"
          ],
          "name": "stderr"
        }
      ]
    },
    {
      "cell_type": "code",
      "metadata": {
        "id": "meYrH8rECkYy",
        "colab_type": "code",
        "colab": {}
      },
      "source": [
        "print(p)"
      ],
      "execution_count": 0,
      "outputs": []
    },
    {
      "cell_type": "code",
      "metadata": {
        "id": "HfaU8E9xU-D-",
        "colab_type": "code",
        "colab": {}
      },
      "source": [
        "def plot (p):\n",
        "#   print(p)\n",
        "  k_val=('k=1','k=3','k=5','k=7')\n",
        "  y_pos=np.arange(len(k_val))\n",
        "  accuracy=p\n",
        "  plt.bar(y_pos,accuracy,align='center',alpha=0.7)\n",
        "  plt.xticks(y_pos, k_val)\n",
        "  plt.ylabel('Percentage')\n",
        "  plt.title('Programming language usage')\n",
        "\n",
        "  plt.show()\n",
        "  "
      ],
      "execution_count": 0,
      "outputs": []
    }
  ]
}